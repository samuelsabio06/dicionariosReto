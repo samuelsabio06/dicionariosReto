{
  "nbformat": 4,
  "nbformat_minor": 0,
  "metadata": {
    "colab": {
      "provenance": []
    },
    "kernelspec": {
      "name": "python3",
      "display_name": "Python 3"
    },
    "language_info": {
      "name": "python"
    }
  },
  "cells": [
    {
      "cell_type": "code",
      "execution_count": 6,
      "metadata": {
        "colab": {
          "base_uri": "https://localhost:8080/"
        },
        "id": "0cVZfT-g4F6_",
        "outputId": "b7d823e6-3897-411f-e16f-68cafb241b87"
      },
      "outputs": [
        {
          "output_type": "stream",
          "name": "stdout",
          "text": [
            "diccionario original: dict_values([5, 22, 121, 7, 1])\n",
            "1\n",
            "5\n",
            "7\n",
            "22\n",
            "121\n"
          ]
        }
      ],
      "source": [
        "# Valores ascendestes\n",
        "def organizar(diccionario):\n",
        "  valores = list(diccionario.values())\n",
        "  valores_orden = sorted(valores)\n",
        "\n",
        "  for i in valores_orden:\n",
        "    print(i)\n",
        "\n",
        "\n",
        "if __name__=='__main__':\n",
        "  diccionario = {'a':5, 'b':22, 'c':121, 'd':7, 'e':1}\n",
        "\n",
        "  print(f'diccionario original: {diccionario.values()}')\n",
        "  organizar(diccionario)\n",
        "\n"
      ]
    },
    {
      "cell_type": "code",
      "source": [
        "# Mezclar diccionarios\n",
        "def mezclar(dict1, dict2):\n",
        "    diccionario = dict1.copy()\n",
        "\n",
        "    for clave, valor in dict2.items():\n",
        "        if clave not in diccionario:  # La clave se agrega si no esta en el diccionario\n",
        "            diccionario[clave] = valor\n",
        "    return diccionario\n",
        "\n",
        "if __name__=='__main__':\n",
        "  dict1 = {'a':5, 'b':22, 'c':121, 'd':7, 'e':1}\n",
        "  dict2 = {'b': 4, 'd': 5}\n",
        "  resultado = mezclar(dict1, dict2)\n",
        "  print(resultado)\n"
      ],
      "metadata": {
        "colab": {
          "base_uri": "https://localhost:8080/"
        },
        "id": "LQzrolWe88w0",
        "outputId": "03ad4fb7-3e4b-48df-b1cb-f19491f733f5"
      },
      "execution_count": 8,
      "outputs": [
        {
          "output_type": "stream",
          "name": "stdout",
          "text": [
            "{'a': 5, 'b': 22, 'c': 121, 'd': 7, 'e': 1}\n"
          ]
        }
      ]
    },
    {
      "cell_type": "markdown",
      "source": [
        "# Deportes\n",
        "Cree un programa que lea de un archivo con dicho JSON y:\n",
        "\n",
        "- Imprima los nombres completos (nombre y apellidos) de las personas que practican el deporte ingresado por el usuario.\n",
        "\n",
        "- Imprima los nombres completos (nombre y apellidos) de las personas que est�en en un rango de edades dado por el usuario."
      ],
      "metadata": {
        "id": "AJJnWibTtJto"
      }
    },
    {
      "cell_type": "code",
      "source": [
        "import json\n",
        "\n",
        "\n",
        "archivo = '''\n",
        "{\n",
        "    \"jadiazcoronado\": {\n",
        "        \"nombres\": \"Juan Antonio\",\n",
        "        \"apellidos\": \"Díaz Coronado\",\n",
        "        \"edad\": 19,\n",
        "        \"colombiano\": true,\n",
        "        \"deportes\": [\"Fútbol\", \"Ajedrez\", \"Gimnasia\"]\n",
        "    },\n",
        "    \"dmlunasol\": {\n",
        "        \"nombres\": \"Dorotea Maritza\",\n",
        "        \"apellidos\": \"Luna Sol\",\n",
        "        \"edad\": 25,\n",
        "        \"colombiano\": false,\n",
        "        \"deportes\": [\"Baloncesto\", \"Ajedrez\", \"Gimnasia\"]\n",
        "    }\n",
        "}\n",
        "'''\n",
        "\n",
        "def cargar_json(json_string): #Caramos el archivo\n",
        "    datos = json.loads(json_string)\n",
        "    return datos\n",
        "\n",
        "def por_deporte(datos, deporte):\n",
        "    resultados = []\n",
        "    for alias_per, persona in datos.items():\n",
        "        if deporte.lower() in [d.lower() for d in persona[\"deportes\"]]:\n",
        "            nombre_completo = f\"{persona['nombres']} {persona['apellidos']}\"\n",
        "            resultados.append(nombre_completo)\n",
        "    return resultados\n",
        "\n",
        "def por_edad(datos, edad_min, edad_max):\n",
        "    resultados = []\n",
        "    for alias_per, persona in datos.items():\n",
        "        if edad_min <= persona[\"edad\"] <= edad_max:\n",
        "            nombre_completo = f\"{persona['nombres']} {persona['apellidos']}\"\n",
        "            resultados.append(nombre_completo)\n",
        "    return resultados\n",
        "\n",
        "def main():\n",
        "    datos = cargar_json(archivo)\n",
        "\n",
        "    deporte = input(\"Ingrese el deporte: \")\n",
        "    nombres_deporte = por_deporte(datos, deporte)\n",
        "    print(f\"Nombres completos de las personas que practican {deporte}:\")\n",
        "    for nombre in nombres_deporte:\n",
        "        print(nombre)\n",
        "\n",
        "    edad_min = int(input(\"Ingrese la edad mínima: \"))\n",
        "    edad_max = int(input(\"Ingrese la edad máxima: \"))\n",
        "    nombres_edad = por_edad(datos, edad_min, edad_max)\n",
        "    print(f\"Nombres completos de las personas en el rango de edades {edad_min}-{edad_max}:\")\n",
        "    for nombre in nombres_edad:\n",
        "        print(nombre)\n",
        "\n",
        "if __name__ == \"__main__\":\n",
        "    main()\n"
      ],
      "metadata": {
        "colab": {
          "base_uri": "https://localhost:8080/"
        },
        "id": "ZgKw8-Tkxy2y",
        "outputId": "93d35c82-9fb1-4203-8df1-9864878ee070"
      },
      "execution_count": 10,
      "outputs": [
        {
          "output_type": "stream",
          "name": "stdout",
          "text": [
            "Ingrese el deporte: Gimnasia\n",
            "Nombres completos de las personas que practican Gimnasia:\n",
            "Juan Antonio Díaz Coronado\n",
            "Dorotea Maritza Luna Sol\n",
            "Ingrese la edad mínima: 6\n",
            "Ingrese la edad máxima: 20\n",
            "Nombres completos de las personas en el rango de edades 6-20:\n",
            "Juan Antonio Díaz Coronado\n"
          ]
        }
      ]
    },
    {
      "cell_type": "markdown",
      "source": [
        "# API's\n",
        "\n"
      ],
      "metadata": {
        "id": "HfhWyU2W0x7w"
      }
    },
    {
      "cell_type": "code",
      "source": [
        "!pip install requests"
      ],
      "metadata": {
        "colab": {
          "base_uri": "https://localhost:8080/"
        },
        "id": "5f6IDac41V-t",
        "outputId": "8178c429-a11f-42ff-b317-a2ebd58fe65f"
      },
      "execution_count": 11,
      "outputs": [
        {
          "output_type": "stream",
          "name": "stdout",
          "text": [
            "Requirement already satisfied: requests in /usr/local/lib/python3.11/dist-packages (2.32.3)\n",
            "Requirement already satisfied: charset-normalizer<4,>=2 in /usr/local/lib/python3.11/dist-packages (from requests) (3.4.1)\n",
            "Requirement already satisfied: idna<4,>=2.5 in /usr/local/lib/python3.11/dist-packages (from requests) (3.10)\n",
            "Requirement already satisfied: urllib3<3,>=1.21.1 in /usr/local/lib/python3.11/dist-packages (from requests) (2.3.0)\n",
            "Requirement already satisfied: certifi>=2017.4.17 in /usr/local/lib/python3.11/dist-packages (from requests) (2025.1.31)\n"
          ]
        }
      ]
    },
    {
      "cell_type": "code",
      "source": [
        "import requests\n",
        "import json\n",
        "\n",
        "def datos_api(url):\n",
        "    try:\n",
        "        response = requests.get(url)\n",
        "        response.raise_for_status()  # Verificar si la solicitud fue exitosa\n",
        "        datos = response.json()\n",
        "        return datos\n",
        "    except requests.exceptions.RequestException as e:\n",
        "        print(f\"Error en la solicitud a {url}: {e}\")\n",
        "        return None\n",
        "    except json.JSONDecodeError:\n",
        "        print(f\"Error al decodificar la respuesta JSON de {url}\")\n",
        "        return None\n",
        "\n",
        "def imprimir_json(datos):\n",
        "    if datos:\n",
        "        json_string = json.dumps(datos, indent=2, ensure_ascii=False)\n",
        "        print(json_string)\n",
        "    else:\n",
        "        print(\"No hay datos para mostrar\")\n",
        "\n",
        "def extraer_llave_valor(datos):\n",
        "    if isinstance(datos, dict):\n",
        "        for llave, valor in datos.items():\n",
        "            print(f\"{llave}: {valor}\")\n",
        "    elif isinstance(datos, list):\n",
        "        for elemento in datos:\n",
        "            extraer_llave_valor(elemento)\n",
        "\n",
        "#Joke\n",
        "url_joke = \"https://v2.jokeapi.dev/joke/Any\"\n",
        "datos_joke =datos_api(url_joke)\n",
        "print(\"Datos de la API de Joke:\")\n",
        "imprimir_json(datos_joke)\n",
        "print(\"\\nPares llave-valor:\")\n",
        "extraer_llave_valor(datos_joke)\n",
        "\n",
        "#Nationalize\n",
        "url_nationalize = \"https://api.nationalize.io?name=michael\"\n",
        "datos_nationalize =datos_api(url_nationalize)\n",
        "print(\"\\nDatos de la API de Nationalize:\")\n",
        "imprimir_json(datos_nationalize)\n",
        "print(\"\\nPares llave-valor:\")\n",
        "extraer_llave_valor(datos_nationalize)\n",
        "\n",
        "#Agify\n",
        "url_agify = \"https://api.agify.io?name=michael\"\n",
        "datos_agify = datos_api(url_agify)\n",
        "print(\"\\nDatos de la API de Agify:\")\n",
        "imprimir_json(datos_agify)\n",
        "print(\"\\nPares llave-valor:\")\n",
        "extraer_llave_valor(datos_agify)\n"
      ],
      "metadata": {
        "colab": {
          "base_uri": "https://localhost:8080/"
        },
        "id": "m6w1K4-t24R-",
        "outputId": "9adaeae0-03c5-4725-d77e-17b2b31570fc"
      },
      "execution_count": 14,
      "outputs": [
        {
          "output_type": "stream",
          "name": "stdout",
          "text": [
            "Datos de la API de Joke:\n",
            "{\n",
            "  \"error\": false,\n",
            "  \"category\": \"Dark\",\n",
            "  \"type\": \"twopart\",\n",
            "  \"setup\": \"What part of a vegetable are you not supposed to eat?\",\n",
            "  \"delivery\": \"The wheelchair.\",\n",
            "  \"flags\": {\n",
            "    \"nsfw\": false,\n",
            "    \"religious\": false,\n",
            "    \"political\": false,\n",
            "    \"racist\": false,\n",
            "    \"sexist\": false,\n",
            "    \"explicit\": true\n",
            "  },\n",
            "  \"id\": 153,\n",
            "  \"safe\": false,\n",
            "  \"lang\": \"en\"\n",
            "}\n",
            "\n",
            "Pares llave-valor:\n",
            "error: False\n",
            "category: Dark\n",
            "type: twopart\n",
            "setup: What part of a vegetable are you not supposed to eat?\n",
            "delivery: The wheelchair.\n",
            "flags: {'nsfw': False, 'religious': False, 'political': False, 'racist': False, 'sexist': False, 'explicit': True}\n",
            "id: 153\n",
            "safe: False\n",
            "lang: en\n",
            "\n",
            "Datos de la API de Nationalize:\n",
            "{\n",
            "  \"count\": 129385,\n",
            "  \"name\": \"michael\",\n",
            "  \"country\": [\n",
            "    {\n",
            "      \"country_id\": \"NG\",\n",
            "      \"probability\": 0.08072891893012198\n",
            "    },\n",
            "    {\n",
            "      \"country_id\": \"CY\",\n",
            "      \"probability\": 0.07509944218012053\n",
            "    },\n",
            "    {\n",
            "      \"country_id\": \"GH\",\n",
            "      \"probability\": 0.05387078281978828\n",
            "    },\n",
            "    {\n",
            "      \"country_id\": \"CN\",\n",
            "      \"probability\": 0.03992310598585022\n",
            "    },\n",
            "    {\n",
            "      \"country_id\": \"US\",\n",
            "      \"probability\": 0.03816919836588408\n",
            "    }\n",
            "  ]\n",
            "}\n",
            "\n",
            "Pares llave-valor:\n",
            "count: 129385\n",
            "name: michael\n",
            "country: [{'country_id': 'NG', 'probability': 0.08072891893012198}, {'country_id': 'CY', 'probability': 0.07509944218012053}, {'country_id': 'GH', 'probability': 0.05387078281978828}, {'country_id': 'CN', 'probability': 0.03992310598585022}, {'country_id': 'US', 'probability': 0.03816919836588408}]\n",
            "\n",
            "Datos de la API de Agify:\n",
            "{\n",
            "  \"count\": 298219,\n",
            "  \"name\": \"michael\",\n",
            "  \"age\": 64\n",
            "}\n",
            "\n",
            "Pares llave-valor:\n",
            "count: 298219\n",
            "name: michael\n",
            "age: 64\n"
          ]
        }
      ]
    }
  ]
}